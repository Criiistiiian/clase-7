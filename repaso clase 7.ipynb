{
 "cells": [
  {
   "cell_type": "markdown",
   "metadata": {},
   "source": [
    ". Ejercicio de Listas:\n",
    "o Crear una lista de 10 números enteros. Escribir una función que\n",
    "devuelva la suma de todos los números en la lista"
   ]
  },
  {
   "cell_type": "code",
   "execution_count": 14,
   "metadata": {},
   "outputs": [
    {
     "name": "stdout",
     "output_type": "stream",
     "text": [
      "148\n",
      "sad\n"
     ]
    }
   ],
   "source": [
    "nombre = input(\"ingrese un nombre: \")\n",
    "\n",
    "lista = [1,2,3,4,5,6,7,10,10,100]\n",
    "\n",
    "def sumar(numeros):\n",
    "    suma = 0\n",
    "    for i in numeros:\n",
    "        suma += i\n",
    "\n",
    "    return suma\n",
    "\n",
    "suma_total = sumar(lista)\n",
    "print(suma_total)\n",
    "print(nombre)"
   ]
  },
  {
   "cell_type": "markdown",
   "metadata": {},
   "source": [
    "Ejercicio de Tuplas:\n",
    "o Definir una tupla con 5 nombres de ciudades. Escribir una función\n",
    "que imprima cada ciudad en una línea separada."
   ]
  },
  {
   "cell_type": "code",
   "execution_count": 15,
   "metadata": {},
   "outputs": [
    {
     "name": "stdout",
     "output_type": "stream",
     "text": [
      "Rio Grande\n",
      "Rio Gallegos\n",
      "Calafate\n",
      "asdasd\n",
      "Rosario\n"
     ]
    }
   ],
   "source": [
    "tupla = (\"Rio Grande\", \"Rio Gallegos\", \"Calafate\", \"asdasd\", \"Rosario\")\n",
    "for i  in tupla:\n",
    "    print(i)\n"
   ]
  },
  {
   "cell_type": "markdown",
   "metadata": {},
   "source": [
    "Ejercicio de Diccionarios:\n",
    "o Crear un diccionario que contenga información sobre un libro\n",
    "(título, autor, año de publicación). Escribir una función que\n",
    "imprima la información del libro de manera formateada."
   ]
  },
  {
   "cell_type": "code",
   "execution_count": 92,
   "metadata": {},
   "outputs": [
    {
     "name": "stdout",
     "output_type": "stream",
     "text": [
      "{'Titulo:Naufrago', 'Año:12-02-2000', 'Autor:Pedro'}\n",
      "Se formatearon los datos de los libros :(\n",
      "{'Autor:Sin datos', 'Año:Sin datos', 'Titulo: Sin datos'}\n"
     ]
    }
   ],
   "source": [
    "diccionario ={\"Titulo:\" \"Naufrago\", \"Autor:\" \"Pedro\", \"Año:\" \"12-02-2000\"}\n",
    "print(diccionario)\n",
    "\n",
    "def editar_libro (diccionario):\n",
    "   print(\"Se formatearon los datos de los libros :(\")\n",
    "   diccionario = {\"Titulo: \" \"Sin datos\", \"Autor:\" \"Sin datos\",  \"Año:\" \"Sin datos\"}\n",
    "   return diccionario\n",
    "\n",
    "\n",
    "diccionario_actualizado = editar_libro(diccionario)\n",
    "\n",
    "\n",
    "print(diccionario_actualizado)"
   ]
  },
  {
   "cell_type": "markdown",
   "metadata": {},
   "source": [
    "4. Ejercicio de Control de Flujo:\n",
    "o Escribir un programa que pida al usuario un número y use un\n",
    "bucle for para imprimir todos los números desde 1 hasta ese\n",
    "número. Usar break para salir del bucle si se ingresa un número\n",
    "negativo"
   ]
  },
  {
   "cell_type": "code",
   "execution_count": 20,
   "metadata": {},
   "outputs": [
    {
     "name": "stdout",
     "output_type": "stream",
     "text": [
      "El numero que ingresaste es negativo\n"
     ]
    }
   ],
   "source": [
    "numero = int(input(\"Ingrese un numero: \"))\n",
    "\n",
    "if numero < 0:\n",
    "    print(\"El numero que ingresaste es negativo\")\n",
    "else:\n",
    "\n",
    "    for i in range(1, numero +1):\n",
    "        print(i)\n",
    "\n",
    "        if numero < 0:\n",
    "            break"
   ]
  },
  {
   "cell_type": "markdown",
   "metadata": {},
   "source": [
    "Ejercicio de Números Pares:\n",
    "o Crear una función que reciba una lista de números y devuelva una\n",
    "nueva lista que contenga solo los números pares.\n",
    "Utilizar continue para omitir los números impares"
   ]
  },
  {
   "cell_type": "code",
   "execution_count": 27,
   "metadata": {},
   "outputs": [
    {
     "name": "stdout",
     "output_type": "stream",
     "text": [
      "La lista de numeros ingresados son:[2] \n",
      "Se van a sacar los numeros impares de la lista\n"
     ]
    }
   ],
   "source": [
    "#primero definir la lista de numeros e imprmir la lista completa\n",
    "numeros_lista =[]\n",
    "#Se tiene que declarar en un int por que lo toma con str y da error el for\n",
    "numeros = int(input(\"Ingrese la cantidad de numeros: \"))\n",
    "\n",
    "for i in range(numeros):\n",
    "    ingrese_numero = int(input(\"ingrese un numero: \"))\n",
    "   \n",
    "    if ingrese_numero %2 == 0:\n",
    "         numeros_lista.append(ingrese_numero)\n",
    "\n",
    "print(f\"La lista de numeros ingresados son:{numeros_lista} \")\n",
    "print(\"Se van a sacar los numeros impares de la lista\")\n",
    "#ahora solo imprimir la lista con los numeros pares\n"
   ]
  },
  {
   "cell_type": "code",
   "execution_count": 37,
   "metadata": {},
   "outputs": [
    {
     "name": "stdout",
     "output_type": "stream",
     "text": [
      "[2, 4]\n"
     ]
    }
   ],
   "source": [
    "lista5 =[]\n",
    "\n",
    "ingrese_cantidad = int(input(\"ingrese la cantidad de numeros: \"))\n",
    "def funcion_pares(lista5):    \n",
    "    \n",
    "    for i in range(ingrese_cantidad):\n",
    "        ingrese_numero1  = int(input(\"ingrese un numero: \"))\n",
    "\n",
    "        if ingrese_numero1 %2 != 0:\n",
    "            continue\n",
    "        else:\n",
    "            lista5.append(ingrese_numero1)\n",
    "    \n",
    "    return lista5\n",
    "print(funcion_pares(lista5))\n",
    "    "
   ]
  },
  {
   "cell_type": "markdown",
   "metadata": {},
   "source": [
    "Ejercicio de Contador:\n",
    "o Escribir un programa que cuente cuántos números positivos y\n",
    "negativos hay en una lista dada. Utilizar un bucle for y\n",
    "condicionales\n",
    "len(lista6)-->Imprime la cantidad de elentos que tiene la lista"
   ]
  },
  {
   "cell_type": "code",
   "execution_count": 74,
   "metadata": {},
   "outputs": [
    {
     "name": "stdout",
     "output_type": "stream",
     "text": [
      "la cantidad de numeros negativos son: 3\n",
      "La cantidad de numeros positivos son: 6\n"
     ]
    }
   ],
   "source": [
    "lista6 = [1,-3,-2,3,2,3,4,5,-2]\n",
    "negativo = 0\n",
    "positivo = 0\n",
    "for i in lista6:\n",
    "    if i < 0:\n",
    "        negativo = negativo + 1\n",
    "    else:\n",
    "        positivo = positivo +1\n",
    "        \n",
    "print(f\"la cantidad de numeros negativos son: {negativo}\")\n",
    "print(f\"La cantidad de numeros positivos son: {positivo}\")"
   ]
  },
  {
   "cell_type": "markdown",
   "metadata": {},
   "source": [
    "Ejercicio de Tuplas y Listas:\n",
    "o Crear una lista de tuplas, donde cada tupla contenga el nombre de\n",
    "un estudiante y su calificación. Escribir una función que devuelva\n",
    "el nombre del estudiante con la calificación más alta"
   ]
  },
  {
   "cell_type": "code",
   "execution_count": 91,
   "metadata": {},
   "outputs": [
    {
     "name": "stdout",
     "output_type": "stream",
     "text": [
      "Lista de estudiantes y sus calificaciones:\n",
      "[('Cristian', 190), ('Juan', 23), ('Maria', 99)]\n",
      "El estudiante con la calificación más alta es: ('Cristian', 190)\n"
     ]
    }
   ],
   "source": [
    "# Crear una lista de tuplas con nombres y calificaciones\n",
    "lista7 = [\n",
    "    (\"Cristian\", 190),\n",
    "    (\"Juan\", 23),\n",
    "    (\"Maria\", 99)\n",
    "]\n",
    "\n",
    "print(\"Lista de estudiantes y sus calificaciones:\")\n",
    "print(lista7)\n",
    "\n",
    "def calificacion_alta(lista7a):\n",
    "    mejor_estudiante = \"\"  # Variable para almacenar el nombre del estudiante con la calificación más alta\n",
    "    mejor_calificacion = 0  # Valor inicial que es menor que cualquier calificación posible\n",
    "\n",
    "    # Iterar sobre la lista de tuplas\n",
    "    for i, j in lista7a:\n",
    "        # Comprobar si la calificación actual es mayor que la mejor registrada\n",
    "        if j > mejor_calificacion:\n",
    "            mejor_calificacion = j  # Actualizar la mejor calificación\n",
    "            mejor_estudiante = i  # Actualizar el mejor estudiante\n",
    "\n",
    "    return mejor_estudiante,mejor_calificacion # Devolver el nombre del estudiante con la calificación más alta\n",
    "\n",
    "# Llamar a la función y mostrar el resultado\n",
    "mejor_estudiante = calificacion_alta(lista7)\n",
    "print(f\"El estudiante con la calificación más alta es: {mejor_estudiante}\")\n",
    "\n"
   ]
  },
  {
   "cell_type": "markdown",
   "metadata": {},
   "source": [
    "8. Ejercicio de Diccionarios Anidados:\n",
    "o Crear un diccionario que contenga información sobre varios\n",
    "estudiantes (nombre, edad, materias). Escribir una función que\n",
    "imprima el nombre y las materias de cada estudiante."
   ]
  },
  {
   "cell_type": "code",
   "execution_count": 107,
   "metadata": {},
   "outputs": [
    {
     "name": "stdout",
     "output_type": "stream",
     "text": [
      "El estudiante Bastian tiene 10 años y estudia ¨Programacion jrs.\n"
     ]
    }
   ],
   "source": [
    "estudiante8 ={\"Cristian\":{\"Edad\": 33, \"Materia\": \"Programacion |||\"},\n",
    "              \"Mario\":{\"Edad\":25,\"Materia\": \"Base de datos\" },\n",
    "              \"Maria\": {\"Edad\": 30,\"Materia\": \"Programacion ||\"},\n",
    "              \"Bastian\": {\"Edad\": 10,\"Materia\": \"¨Programacion jrs\"},\n",
    "}\n",
    "\n",
    "\n",
    "\n",
    "def buscar_estudiante(buscar):\n",
    " \n",
    "    nom_buscar = input(\"Ingrese nombre a buscar: \")\n",
    " \n",
    "    if nom_buscar == nom_buscar:\n",
    "        nombre = nom_buscar\n",
    "        eda = buscar[nombre][\"Edad\"]\n",
    "        materia = buscar[nombre][\"Materia\"]\n",
    "\n",
    "        return nombre,eda,materia\n",
    "    else:\n",
    "        print(\"No se encontro el estudiante\")\n",
    "        return None\n",
    "\n",
    "\n",
    "busqueda = buscar_estudiante(estudiante8)\n",
    "\n",
    "\n",
    "if busqueda:\n",
    "    print(f\"El estudiante {busqueda[0]} tiene {busqueda[1]} años y estudia {busqueda[2]}.\")     \n",
    "\n",
    "\n",
    "    "
   ]
  },
  {
   "cell_type": "markdown",
   "metadata": {},
   "source": [
    "9. Ejercicio de Búsqueda:\n",
    "Escribir un programa que pida al usuario un número y busque si\n",
    "está en una lista de números. Si el número está, imprimir su\n",
    "índice; si no, imprimir un mensaje indicando que no se encontró."
   ]
  },
  {
   "cell_type": "code",
   "execution_count": 120,
   "metadata": {},
   "outputs": [
    {
     "name": "stdout",
     "output_type": "stream",
     "text": [
      "El numero 10 se encuentra en la lista, en la posicion: 0\n"
     ]
    }
   ],
   "source": [
    "numeros10 = [10,11,12,13,14,15,16,17,18,19,29]\n",
    "\n",
    "num_buscar = int(input(\"Ingrese el numero a buscar:\" ))\n",
    "pos = 0\n",
    "bandera = 0\n",
    "for i in numeros10:\n",
    "    if i == num_buscar:\n",
    "        \n",
    "        bandera = 1\n",
    "        print(f\"El numero {num_buscar} se encuentra en la lista, en la posicion: {pos}\")\n",
    "    else:\n",
    "        pos= pos +1\n",
    "\n",
    "if bandera == 0:\n",
    "    print(\"****El numero no existe en la lista****\")\n",
    "        \n",
    "\n"
   ]
  },
  {
   "cell_type": "markdown",
   "metadata": {},
   "source": []
  },
  {
   "cell_type": "code",
   "execution_count": 143,
   "metadata": {},
   "outputs": [
    {
     "name": "stdout",
     "output_type": "stream",
     "text": [
      "Si tiene menos de 12 años, solo puede acceder a las atracciones para niños.\n",
      "Si tiene entre 12 y 18 años, puede acceder tanto a las atracciones para niños como a las de adolescentes.\n",
      "Si tiene más de 18 años, puede acceder a todas las atracciones (niños, adolescentes y adultos).\n",
      "El acceso no esta permitida por la edad\n",
      "Organizacion de filas:\n",
      "Niños: []\n",
      "Adolocentes: []\n",
      "Adultos: []\n"
     ]
    }
   ],
   "source": [
    "edadn_lista = []\n",
    "edada_lista = []\n",
    "edadd_lista = []\n",
    "numero_visitas = int(input(\"Ingrese la cantidad de visitantes: \"))\n",
    "print(\"Si tiene menos de 12 años, solo puede acceder a las atracciones para niños.\")\n",
    "print(\"Si tiene entre 12 y 18 años, puede acceder tanto a las atracciones para niños como a las de adolescentes.\")\n",
    "print(\"Si tiene más de 18 años, puede acceder a todas las atracciones (niños, adolescentes y adultos).\")\n",
    "for i in range(numero_visitas):\n",
    "    edad_personas = int(input(\"Ingrese la edad: \"))\n",
    "    tipo_atraccion = input(\"Ingrese la atraccion que desea N(niños), A(adolocente), D(adulto)\")\n",
    "    if( edad_personas < 12 and tipo_atraccion == \"N\"):\n",
    "        print(f\"Tienes: {edad_personas}, puedes ingresar a la atraccion de niños.\")\n",
    "        edadn_lista.append(edad_personas)\n",
    "\n",
    "    elif( edad_personas > 12 and edad_personas <=18 and tipo_atraccion ==\"A\"):\n",
    "        print(f\"Tienes: {edad_personas}, puedes ingresar a la atraccion de adolecente.\")\n",
    "        edada_lista.append(edad_personas)\n",
    "        \n",
    "    elif( edad_personas > 18 and tipo_atraccion ==\"D\"):\n",
    "        print(f\"Tienes: {edad_personas}, puedes ingresar a la atraccion de adulto.\")\n",
    "        edadd_lista.append(edad_personas)        \n",
    "        \n",
    "\n",
    "    else:\n",
    "        print(\"El acceso no esta permitida por la edad\")\n",
    "    \n",
    "print(\"Organizacion de filas:\")\n",
    "print(f\"Niños: {edadn_lista}\")\n",
    "print(f\"Adolocentes: {edada_lista}\")\n",
    "print(f\"Adultos: {edadd_lista}\")\n"
   ]
  },
  {
   "cell_type": "markdown",
   "metadata": {},
   "source": [
    "Crea un programa que permita gestionar la información de varios estudiantes en una clase.\n",
    "El programa debe contar con un menú donde puedas:\n",
    "Añadir un nuevo estudiante.\n",
    "Mostrar todos los estudiantes.\n",
    "Buscar un estudiante por su nombre.\n",
    "Eliminar un estudiante por su nombre.\n",
    "Calcular y mostrar el promedio de las calificaciones de todos los estudiantes"
   ]
  },
  {
   "cell_type": "code",
   "execution_count": 2,
   "metadata": {},
   "outputs": [
    {
     "name": "stdout",
     "output_type": "stream",
     "text": [
      "\n",
      "Menú:\n",
      "1. Añadir un nuevo estudiante\n",
      "2. Mostrar todos los estudiantes\n",
      "3. Buscar un estudiante por su nombre\n",
      "4. Eliminar un estudiante por su nombre\n",
      "5. Calcular el promedio de las calificaciones\n",
      "6. Salir\n",
      "Estudiante cristian agregado exitosamente.\n",
      "\n",
      "Menú:\n",
      "1. Añadir un nuevo estudiante\n",
      "2. Mostrar todos los estudiantes\n",
      "3. Buscar un estudiante por su nombre\n",
      "4. Eliminar un estudiante por su nombre\n",
      "5. Calcular el promedio de las calificaciones\n",
      "6. Salir\n",
      "Estudiante basti agregado exitosamente.\n",
      "\n",
      "Menú:\n",
      "1. Añadir un nuevo estudiante\n",
      "2. Mostrar todos los estudiantes\n",
      "3. Buscar un estudiante por su nombre\n",
      "4. Eliminar un estudiante por su nombre\n",
      "5. Calcular el promedio de las calificaciones\n",
      "6. Salir\n",
      "Nombre: cristian, Edad: 33, Calificación: 3.0\n",
      "Nombre: basti, Edad: 10, Calificación: 4.0\n",
      "\n",
      "Menú:\n",
      "1. Añadir un nuevo estudiante\n",
      "2. Mostrar todos los estudiantes\n",
      "3. Buscar un estudiante por su nombre\n",
      "4. Eliminar un estudiante por su nombre\n",
      "5. Calcular el promedio de las calificaciones\n",
      "6. Salir\n",
      "Nombre: cristian, Edad: 33, Calificación: 3.0\n",
      "Nombre: basti, Edad: 10, Calificación: 4.0\n",
      "\n",
      "Menú:\n",
      "1. Añadir un nuevo estudiante\n",
      "2. Mostrar todos los estudiantes\n",
      "3. Buscar un estudiante por su nombre\n",
      "4. Eliminar un estudiante por su nombre\n",
      "5. Calcular el promedio de las calificaciones\n",
      "6. Salir\n",
      "Saliendo del programa...\n"
     ]
    }
   ],
   "source": [
    "# Diccionario para almacenar estudiantes\n",
    "estudiantes = {}\n",
    "\n",
    "# Función para añadir un nuevo estudiante\n",
    "def añadir_estudiante():\n",
    "    nombre = input(\"Ingresa el nombre del estudiante: \")     \n",
    "    edad = int(input(\"Ingresa la edad del estudiante: \"))\n",
    "    calificacion = float(input(\"Ingresa la calificación del estudiante (1-10): \"))\n",
    "    estudiantes[nombre] = (edad, calificacion)\n",
    "    print(f\"Estudiante {nombre} agregado exitosamente.\")\n",
    "\n",
    "# Función para mostrar todos los estudiantes de un diccionario\n",
    "def mostrar_estudiantes():\n",
    "         for i, (j, k) in estudiantes.items():\n",
    "            print(f\"Nombre: {i}, Edad: {j}, Calificación: {k}\")\n",
    "# Función para buscar un estudiante por nombre\n",
    "def buscar_estudiante():\n",
    "    nombre = input(\"Ingresa el nombre del estudiante a buscar: \")\n",
    "    if nombre in estudiantes:\n",
    "        edad, calificacion = estudiantes[nombre]\n",
    "        print(f\"Nombre: {nombre}, Edad: {edad}, Calificación: {calificacion}\")\n",
    "    else:\n",
    "        print(\"El estudiante no está registrado.\")\n",
    "\n",
    "# Función para eliminar un estudiante por nombre\n",
    "def eliminar_estudiante():\n",
    "    nombre = input(\"Ingresa el nombre del estudiante a eliminar: \")\n",
    "    if nombre in estudiantes:\n",
    "        del estudiantes[nombre]\n",
    "        print(f\"Estudiante {nombre} eliminado exitosamente.\")\n",
    "    else:\n",
    "        print(\"El estudiante no está registrado.\")\n",
    "\n",
    "\n",
    "# Función para mostrar el menú\n",
    "def mostrar_menu():\n",
    "    print(\"\\nMenú:\")\n",
    "    print(\"1. Añadir un nuevo estudiante\")\n",
    "    print(\"2. Mostrar todos los estudiantes\")\n",
    "    print(\"3. Buscar un estudiante por su nombre\")\n",
    "    print(\"4. Eliminar un estudiante por su nombre\")   \n",
    "    print(\"5. Salir\")\n",
    "\n",
    "# Programa principal\n",
    "\n",
    "while True:\n",
    "        mostrar_menu()\n",
    "        opcion = input(\"Elige una opción (1-5): \")\n",
    "        \n",
    "        if opcion == \"1\":\n",
    "            añadir_estudiante()\n",
    "        elif opcion == \"2\":\n",
    "            mostrar_estudiantes()\n",
    "        elif opcion == \"3\":\n",
    "            buscar_estudiante()\n",
    "        elif opcion == \"4\":\n",
    "            #eliminar_estudiante()\n",
    "            print(\"123\") \n",
    "    \n",
    "        elif opcion == \"5\":\n",
    "            print(\"Saliendo del programa...\")\n",
    "            break\n",
    "        else:\n",
    "            print(\"Opción no válida. Inténtalo de nuevo.\")\n",
    "\n",
    "\n",
    "\n"
   ]
  },
  {
   "cell_type": "code",
   "execution_count": null,
   "metadata": {},
   "outputs": [],
   "source": []
  }
 ],
 "metadata": {
  "kernelspec": {
   "display_name": "Python 3",
   "language": "python",
   "name": "python3"
  },
  "language_info": {
   "codemirror_mode": {
    "name": "ipython",
    "version": 3
   },
   "file_extension": ".py",
   "mimetype": "text/x-python",
   "name": "python",
   "nbconvert_exporter": "python",
   "pygments_lexer": "ipython3",
   "version": "3.12.7"
  }
 },
 "nbformat": 4,
 "nbformat_minor": 2
}
